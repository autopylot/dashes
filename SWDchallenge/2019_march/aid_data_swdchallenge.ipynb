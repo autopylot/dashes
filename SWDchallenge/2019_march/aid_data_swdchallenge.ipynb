{
 "cells": [
  {
   "cell_type": "code",
   "execution_count": 45,
   "metadata": {},
   "outputs": [],
   "source": [
    "%matplotlib inline\n",
    "%config InlineBackend.figure_format = 'retina'\n",
    "\n",
    "# dashboard\n",
    "import dash\n",
    "import dash_core_components as dcc\n",
    "import dash_html_components as html\n",
    "import plotly.graph_objs as go\n",
    "import plotly.offline as pyo\n",
    "# from jupyter_plotly_dash import JupyterDash\n",
    "from pprint import pprint\n",
    "import pandas as pd\n",
    "import numpy as np\n",
    "import csv"
   ]
  },
  {
   "cell_type": "code",
   "execution_count": 2,
   "metadata": {},
   "outputs": [
    {
     "data": {
      "text/html": [
       "<div>\n",
       "<style scoped>\n",
       "    .dataframe tbody tr th:only-of-type {\n",
       "        vertical-align: middle;\n",
       "    }\n",
       "\n",
       "    .dataframe tbody tr th {\n",
       "        vertical-align: top;\n",
       "    }\n",
       "\n",
       "    .dataframe thead th {\n",
       "        text-align: right;\n",
       "    }\n",
       "</style>\n",
       "<table border=\"1\" class=\"dataframe\">\n",
       "  <thead>\n",
       "    <tr style=\"text-align: right;\">\n",
       "      <th></th>\n",
       "      <th>aiddata_id</th>\n",
       "      <th>aiddata_2_id</th>\n",
       "      <th>year</th>\n",
       "      <th>donor</th>\n",
       "      <th>recipient</th>\n",
       "      <th>commitment_amount_usd_constant</th>\n",
       "      <th>coalesced_purpose_code</th>\n",
       "      <th>coalesced_purpose_name</th>\n",
       "    </tr>\n",
       "  </thead>\n",
       "  <tbody>\n",
       "    <tr>\n",
       "      <th>0</th>\n",
       "      <td>1</td>\n",
       "      <td>NaN</td>\n",
       "      <td>2003</td>\n",
       "      <td>African Development Bank (AFDB)</td>\n",
       "      <td>Togo</td>\n",
       "      <td>29589911</td>\n",
       "      <td>24030</td>\n",
       "      <td>Formal sector financial intermediaries</td>\n",
       "    </tr>\n",
       "    <tr>\n",
       "      <th>1</th>\n",
       "      <td>2</td>\n",
       "      <td>NaN</td>\n",
       "      <td>1990</td>\n",
       "      <td>African Development Bank (AFDB)</td>\n",
       "      <td>Burundi</td>\n",
       "      <td>9713596</td>\n",
       "      <td>31100</td>\n",
       "      <td>Agriculture, combinations of purposes in Agric...</td>\n",
       "    </tr>\n",
       "    <tr>\n",
       "      <th>2</th>\n",
       "      <td>3</td>\n",
       "      <td>NaN</td>\n",
       "      <td>1991</td>\n",
       "      <td>African Development Bank (AFDB)</td>\n",
       "      <td>Cote d`Ivoire</td>\n",
       "      <td>148139421</td>\n",
       "      <td>31120</td>\n",
       "      <td>Agricultural development</td>\n",
       "    </tr>\n",
       "    <tr>\n",
       "      <th>3</th>\n",
       "      <td>4</td>\n",
       "      <td>NaN</td>\n",
       "      <td>1992</td>\n",
       "      <td>African Development Bank (AFDB)</td>\n",
       "      <td>Cameroon</td>\n",
       "      <td>24693752</td>\n",
       "      <td>31120</td>\n",
       "      <td>Agricultural development</td>\n",
       "    </tr>\n",
       "    <tr>\n",
       "      <th>4</th>\n",
       "      <td>5</td>\n",
       "      <td>NaN</td>\n",
       "      <td>1992</td>\n",
       "      <td>African Development Bank (AFDB)</td>\n",
       "      <td>Gabon</td>\n",
       "      <td>82312507</td>\n",
       "      <td>31100</td>\n",
       "      <td>Agriculture, combinations of purposes in Agric...</td>\n",
       "    </tr>\n",
       "  </tbody>\n",
       "</table>\n",
       "</div>"
      ],
      "text/plain": [
       "   aiddata_id  aiddata_2_id  year                            donor  \\\n",
       "0           1           NaN  2003  African Development Bank (AFDB)   \n",
       "1           2           NaN  1990  African Development Bank (AFDB)   \n",
       "2           3           NaN  1991  African Development Bank (AFDB)   \n",
       "3           4           NaN  1992  African Development Bank (AFDB)   \n",
       "4           5           NaN  1992  African Development Bank (AFDB)   \n",
       "\n",
       "       recipient  commitment_amount_usd_constant  coalesced_purpose_code  \\\n",
       "0           Togo                        29589911                   24030   \n",
       "1        Burundi                         9713596                   31100   \n",
       "2  Cote d`Ivoire                       148139421                   31120   \n",
       "3       Cameroon                        24693752                   31120   \n",
       "4          Gabon                        82312507                   31100   \n",
       "\n",
       "                              coalesced_purpose_name  \n",
       "0             Formal sector financial intermediaries  \n",
       "1  Agriculture, combinations of purposes in Agric...  \n",
       "2                           Agricultural development  \n",
       "3                           Agricultural development  \n",
       "4  Agriculture, combinations of purposes in Agric...  "
      ]
     },
     "execution_count": 2,
     "metadata": {},
     "output_type": "execute_result"
    }
   ],
   "source": [
    "aid_data = pd.read_csv(\"./AidDataCoreThin_ResearchRelease_Level1_v3.1.csv\")\n",
    "aid_data.head()"
   ]
  },
  {
   "cell_type": "code",
   "execution_count": 3,
   "metadata": {},
   "outputs": [
    {
     "name": "stdout",
     "output_type": "stream",
     "text": [
      "(1561039, 8)\n",
      "aiddata_id                             0\n",
      "aiddata_2_id                      569672\n",
      "year                                   0\n",
      "donor                                  0\n",
      "recipient                              0\n",
      "commitment_amount_usd_constant         0\n",
      "coalesced_purpose_code                 0\n",
      "coalesced_purpose_name                 0\n",
      "dtype: int64\n",
      "aiddata_id                          int64\n",
      "aiddata_2_id                      float64\n",
      "year                                int64\n",
      "donor                              object\n",
      "recipient                          object\n",
      "commitment_amount_usd_constant      int64\n",
      "coalesced_purpose_code              int64\n",
      "coalesced_purpose_name             object\n",
      "dtype: object\n"
     ]
    }
   ],
   "source": [
    "print(aid_data.shape)\n",
    "print(aid_data.isna().sum())\n",
    "print(aid_data.dtypes)"
   ]
  },
  {
   "cell_type": "code",
   "execution_count": 4,
   "metadata": {},
   "outputs": [
    {
     "data": {
      "text/plain": [
       "aiddata_id                        1561039\n",
       "aiddata_2_id                       991298\n",
       "year                                   68\n",
       "donor                                  96\n",
       "recipient                             252\n",
       "commitment_amount_usd_constant     542121\n",
       "coalesced_purpose_code                268\n",
       "coalesced_purpose_name                480\n",
       "dtype: int64"
      ]
     },
     "execution_count": 4,
     "metadata": {},
     "output_type": "execute_result"
    }
   ],
   "source": [
    "# How many unique values in each column\n",
    "aid_data.apply(\"nunique\")"
   ]
  },
  {
   "cell_type": "markdown",
   "metadata": {},
   "source": [
    "A total of 96 donors and 252 recipients. Theres only a total 195 countries in the world, so there must be some smaller nations included. Theres also less purpose codes than purpose names so some codes must mutiple names."
   ]
  },
  {
   "cell_type": "code",
   "execution_count": 5,
   "metadata": {},
   "outputs": [
    {
     "name": "stdout",
     "output_type": "stream",
     "text": [
      "[11110, 11120, 11130, 11182, 11220, 11230, 11240, 11320, 11330, 11420, 11430, 12110, 12181, 12182, 12191, 12220, 12230, 12240, 12250, 12261, 12281, 13010, 13020, 13030, 13040, 13081, 14010, 14020, 14030, 14040, 14050, 14081, 15110, 15120, 15130, 15140, 15150, 15161, 15162, 15163, 15164, 15230, 15240, 15250, 15261, 16010, 16020, 16030, 16050, 16061, 16062, 16063, 16064, 21010, 21020, 21030, 21040, 21050, 21061, 21081, 22010, 22020, 22030, 22040, 23010, 23020, 23030, 23040, 23050, 23062, 23063, 23064, 23065, 23067, 23068, 23070, 23081, 23082, 24010, 24020, 24030, 24040, 24081, 25010, 25020, 31110, 31120, 31150, 31161, 31163, 31164, 31181, 31182, 31191, 31192, 31195, 31210, 31220, 31281, 31310, 31320, 32110, 32120, 32130, 32140, 32161, 32162, 32163, 32164, 32165, 32166, 32167, 32169, 32171, 32172, 32182, 32210, 32220, 32261, 32262, 32310, 33110, 33120, 33130, 33140, 33181, 33210, 41010, 41020, 41030, 41040, 41050, 41081, 41082, 43010, 43050, 43081, 51010, 52010, 53030, 53040, 60010, 60020, 60040, 72010, 72040, 72050, 73010, 91010, 92010, 92020, 92030, 93010, 99810, 99820]\n"
     ]
    }
   ],
   "source": [
    "# Group by purpose code and select the codes with multiple names\n",
    "gb = aid_data.groupby(\"coalesced_purpose_code\")\n",
    "diff_names = [g[0] for g in gb if g[1][\"coalesced_purpose_name\"].nunique() > 1]\n",
    "\n",
    "# diff_gb = [label if aid_data.iloc[v,\"coalesced_purpose_name\"] else \"\" for label, v in gb.groups]\n",
    "print(diff_names)"
   ]
  },
  {
   "cell_type": "code",
   "execution_count": 6,
   "metadata": {},
   "outputs": [
    {
     "data": {
      "text/plain": [
       "'Trade facilitation'"
      ]
     },
     "execution_count": 6,
     "metadata": {},
     "output_type": "execute_result"
    }
   ],
   "source": [
    "aid_data[aid_data.coalesced_purpose_code == 33120][\"coalesced_purpose_name\"].value_counts().idxmax()"
   ]
  },
  {
   "cell_type": "markdown",
   "metadata": {},
   "source": [
    "Looks like the purpose names are dirty and this is a problem if we want to use name in a bar chart. Even if we use purpose code as the nominal data type for categorical graphs when we reverse the code the name there will be some inconsistencies. "
   ]
  },
  {
   "cell_type": "code",
   "execution_count": 7,
   "metadata": {},
   "outputs": [],
   "source": [
    "corrected_names_dict = {code: aid_data[aid_data.coalesced_purpose_code == code][\"coalesced_purpose_name\"].value_counts().idxmax()  for code in diff_names}"
   ]
  },
  {
   "cell_type": "code",
   "execution_count": 10,
   "metadata": {},
   "outputs": [],
   "source": [
    "# aid_data[aid_data.coalesced_purpose_code.isin(diff_names)][\"coalesced_purpose_code\"].apply(lambda x: corrected_names_dict[x])\n",
    "dirty_idx = aid_data.coalesced_purpose_code.isin(diff_names)\n",
    "# aid_data.coalesced_purpose_name.replace(dirty_idx, pd.Series([corrected_names_dict[r.coalesced_purpose_code] for r in aid_data[dirty_idx].itertuples()]))\n",
    "aid_data.loc[dirty_idx, \"coalesced_purpose_name\"] = [corrected_names_dict[r.coalesced_purpose_code] for r in aid_data[dirty_idx].itertuples()]"
   ]
  },
  {
   "cell_type": "markdown",
   "metadata": {},
   "source": [
    "Let map the donations to world map and use line to link donors and recipients. First we need to attach country codes to country names using data from another csv  file."
   ]
  },
  {
   "cell_type": "code",
   "execution_count": 68,
   "metadata": {},
   "outputs": [
    {
     "name": "stdout",
     "output_type": "stream",
     "text": [
      "190 112\n"
     ]
    }
   ],
   "source": [
    "country_code = pd.read_csv(\"https://gist.githubusercontent.com/tadast/8827699/raw/7255fdfbf292c592b75cf5f7a19c16ea59735f74/countries_codes_and_coordinates.csv\")\n",
    "country_code = country_code.applymap(lambda x: x.replace('\"', ''))\n",
    "aid_countries = np.unique(aid_data[[\"donor\", \"recipient\"]].values)\n",
    "mask = np.isin(aid_countries, country_code[\"Country\"])\n",
    "found_countries = aid_countries[mask]\n",
    "missing_countries = aid_countries[~mask]\n",
    "print(len(found_countries), len(missing_countries))"
   ]
  },
  {
   "cell_type": "code",
   "execution_count": 70,
   "metadata": {},
   "outputs": [],
   "source": [
    "not_found = aid_countries[~mask]"
   ]
  },
  {
   "cell_type": "code",
   "execution_count": 24,
   "metadata": {
    "collapsed": true
   },
   "outputs": [
    {
     "name": "stdout",
     "output_type": "stream",
     "text": [
      "Collecting python-Levenshtein\n",
      "\u001b[?25l  Downloading https://files.pythonhosted.org/packages/42/a9/d1785c85ebf9b7dfacd08938dd028209c34a0ea3b1bcdb895208bd40a67d/python-Levenshtein-0.12.0.tar.gz (48kB)\n",
      "\u001b[K    100% |████████████████████████████████| 51kB 647kB/s ta 0:00:01\n",
      "\u001b[?25hRequirement already satisfied: setuptools in /opt/conda/lib/python3.7/site-packages (from python-Levenshtein) (40.8.0)\n",
      "Building wheels for collected packages: python-Levenshtein\n",
      "  Building wheel for python-Levenshtein (setup.py) ... \u001b[?25ldone\n",
      "\u001b[?25h  Stored in directory: /home/jovyan/.cache/pip/wheels/de/c2/93/660fd5f7559049268ad2dc6d81c4e39e9e36518766eaf7e342\n",
      "Successfully built python-Levenshtein\n",
      "Installing collected packages: python-Levenshtein\n",
      "Successfully installed python-Levenshtein-0.12.0\n"
     ]
    }
   ],
   "source": [
    "!pip install python-Levenshtein\n",
    "!pip install fuzzywuzzy"
   ]
  },
  {
   "cell_type": "code",
   "execution_count": 128,
   "metadata": {},
   "outputs": [
    {
     "name": "stdout",
     "output_type": "stream",
     "text": [
      "[('Antigua & Barbuda', 'Antigua and Barbuda'),\n",
      " ('Bosnia-Herzegovina', 'Bosnia and Herzegovina'),\n",
      " ('Congo, Democratic Republic of', 'Congo, the Democratic Republic of the'),\n",
      " ('Congo, Republic of', 'Moldova, Republic of'),\n",
      " ('Cote d`Ivoire', \"Côte d'Ivoire\"),\n",
      " ('Falkland Islands', 'Falkland Islands (Malvinas)'),\n",
      " ('Korea, Democratic Republic of', \"Korea, Democratic People's Republic of\"),\n",
      " ('Northern Marianas', 'Northern Mariana Islands'),\n",
      " ('Reunion', 'Réunion'),\n",
      " ('Sao Tome & Principe', 'Sao Tome and Principe'),\n",
      " ('St. Kitts & Nevis', 'Saint Kitts and Nevis'),\n",
      " ('St. Lucia', 'Saint Lucia'),\n",
      " ('St. Pierre & Miquelon', 'Saint Pierre and Miquelon'),\n",
      " ('St.Vincent & Grenadines', 'Saint Vincent and the Grenadines'),\n",
      " ('St.Vincent & Grenadines', 'Saint Vincent & the Grenadines'),\n",
      " ('St.Vincent & Grenadines', 'St. Vincent and the Grenadines'),\n",
      " ('Virgin Islands (UK)', 'Virgin Islands, U.S.'),\n",
      " ('Wallis & Futuna', 'Wallis and Futuna')]\n"
     ]
    }
   ],
   "source": [
    "from fuzzywuzzy import fuzz\n",
    "\n",
    "possible_match = []\n",
    "for c in not_found:\n",
    "    for cc in country_code[\"Country\"]:\n",
    "        if fuzz.token_sort_ratio(c, cc) > 77:\n",
    "            possible_match.append((c, cc))\n"
   ]
  },
  {
   "cell_type": "code",
   "execution_count": 115,
   "metadata": {},
   "outputs": [
    {
     "name": "stdout",
     "output_type": "stream",
     "text": [
      "[('Antigua & Barbuda', 'Antigua and Barbuda'),\n",
      " ('Bosnia-Herzegovina', 'Bosnia and Herzegovina'),\n",
      " ('Congo, Democratic Republic of', 'Congo, the Democratic Republic of the'),\n",
      " ('Cote d`Ivoire', \"Côte d'Ivoire\"),\n",
      " ('Korea, Democratic Republic of', \"Korea, Democratic People's Republic of\"),\n",
      " ('Northern Marianas', 'Northern Mariana Islands'),\n",
      " ('Reunion', 'Réunion'),\n",
      " ('Sao Tome & Principe', 'Sao Tome and Principe'),\n",
      " ('St. Pierre & Miquelon', 'Saint Pierre and Miquelon'),\n",
      " ('St.Vincent & Grenadines', 'Saint Vincent & the Grenadines'),\n",
      " ('St.Vincent & Grenadines', 'St. Vincent and the Grenadines'),\n",
      " ('Virgin Islands (UK)', 'Virgin Islands, U.S.'),\n",
      " ('Wallis & Futuna', 'Wallis and Futuna')]\n"
     ]
    }
   ],
   "source": []
  }
 ],
 "metadata": {
  "kernelspec": {
   "display_name": "Python 3",
   "language": "python",
   "name": "python3"
  },
  "language_info": {
   "codemirror_mode": {
    "name": "ipython",
    "version": 3
   },
   "file_extension": ".py",
   "mimetype": "text/x-python",
   "name": "python",
   "nbconvert_exporter": "python",
   "pygments_lexer": "ipython3",
   "version": "3.7.1"
  }
 },
 "nbformat": 4,
 "nbformat_minor": 2
}
